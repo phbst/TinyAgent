{
 "cells": [
  {
   "cell_type": "code",
   "execution_count": 2,
   "metadata": {},
   "outputs": [
    {
     "name": "stdout",
     "output_type": "stream",
     "text": [
      "Running on local URL:  http://127.0.0.1:7861\n",
      "\n",
      "To create a public link, set `share=True` in `launch()`.\n"
     ]
    },
    {
     "data": {
      "text/html": [
       "<div><iframe src=\"http://127.0.0.1:7861/\" width=\"100%\" height=\"500\" allow=\"autoplay; camera; microphone; clipboard-read; clipboard-write;\" frameborder=\"0\" allowfullscreen></iframe></div>"
      ],
      "text/plain": [
       "<IPython.core.display.HTML object>"
      ]
     },
     "metadata": {},
     "output_type": "display_data"
    },
    {
     "data": {
      "text/plain": []
     },
     "execution_count": 2,
     "metadata": {},
     "output_type": "execute_result"
    },
    {
     "name": "stderr",
     "output_type": "stream",
     "text": [
      "Traceback (most recent call last):\n",
      "  File \"c:\\Users\\86195\\.conda\\envs\\transformers\\lib\\site-packages\\gradio\\queueing.py\", line 501, in call_prediction\n",
      "    output = await route_utils.call_process_api(\n",
      "  File \"c:\\Users\\86195\\.conda\\envs\\transformers\\lib\\site-packages\\gradio\\route_utils.py\", line 253, in call_process_api\n",
      "    output = await app.get_blocks().process_api(\n",
      "  File \"c:\\Users\\86195\\.conda\\envs\\transformers\\lib\\site-packages\\gradio\\blocks.py\", line 1695, in process_api\n",
      "    result = await self.call_function(\n",
      "  File \"c:\\Users\\86195\\.conda\\envs\\transformers\\lib\\site-packages\\gradio\\blocks.py\", line 1247, in call_function\n",
      "    prediction = await utils.async_iteration(iterator)\n",
      "  File \"c:\\Users\\86195\\.conda\\envs\\transformers\\lib\\site-packages\\gradio\\utils.py\", line 516, in async_iteration\n",
      "    return await iterator.__anext__()\n",
      "  File \"c:\\Users\\86195\\.conda\\envs\\transformers\\lib\\site-packages\\gradio\\utils.py\", line 642, in asyncgen_wrapper\n",
      "    response = await iterator.__anext__()\n",
      "  File \"c:\\Users\\86195\\.conda\\envs\\transformers\\lib\\site-packages\\gradio\\chat_interface.py\", line 493, in _stream_fn\n",
      "    first_response = await async_iteration(generator)\n",
      "  File \"c:\\Users\\86195\\.conda\\envs\\transformers\\lib\\site-packages\\gradio\\utils.py\", line 516, in async_iteration\n",
      "    return await iterator.__anext__()\n",
      "  File \"c:\\Users\\86195\\.conda\\envs\\transformers\\lib\\site-packages\\gradio\\utils.py\", line 509, in __anext__\n",
      "    return await anyio.to_thread.run_sync(\n",
      "  File \"c:\\Users\\86195\\.conda\\envs\\transformers\\lib\\site-packages\\anyio\\to_thread.py\", line 33, in run_sync\n",
      "    return await get_asynclib().run_sync_in_worker_thread(\n",
      "  File \"c:\\Users\\86195\\.conda\\envs\\transformers\\lib\\site-packages\\anyio\\_backends\\_asyncio.py\", line 877, in run_sync_in_worker_thread\n",
      "    return await future\n",
      "  File \"c:\\Users\\86195\\.conda\\envs\\transformers\\lib\\site-packages\\anyio\\_backends\\_asyncio.py\", line 807, in run\n",
      "    result = context.run(func, *args)\n",
      "  File \"c:\\Users\\86195\\.conda\\envs\\transformers\\lib\\site-packages\\gradio\\utils.py\", line 492, in run_sync_iterator_async\n",
      "    return next(iterator)\n",
      "  File \"C:\\Users\\86195\\AppData\\Local\\Temp\\ipykernel_22092\\1564745690.py\", line 12, in echo\n",
      "    result=agent.chat_by_func(message)\n",
      "  File \"c:\\Users\\86195\\Desktop\\study\\RAG\\tinyAgent\\components\\Agent.py\", line 79, in chat_by_func\n",
      "    res_model_2=text+res_func\n",
      "TypeError: can only concatenate str (not \"NoneType\") to str\n"
     ]
    }
   ],
   "source": [
    "import gradio as gr\n",
    "import time\n",
    "from components.Agent import Agent\n",
    "\n",
    "\n",
    "agent=Agent()\n",
    "\n",
    "\n",
    "\n",
    "def echo(message, history):\n",
    "    # result=agent.llm.chat(message,agent.template_prompt)\n",
    "    result=agent.chat_by_func(message)\n",
    "    \n",
    "    for i in range(len(result)):\n",
    "        time.sleep(0.02)\n",
    "        yield result[: i+1]\n",
    "\n",
    "        #自定义的流式输出\n",
    "\n",
    "\n",
    "\n",
    "demo = gr.ChatInterface(fn=echo, \n",
    "                        examples=[\"特朗普什么时候出生？\",\"github是什么？\"], \n",
    "                        title=\"Echo Bot\",\n",
    "                        theme=\"soft\")\n",
    "demo.launch()"
   ]
  },
  {
   "cell_type": "code",
   "execution_count": null,
   "metadata": {},
   "outputs": [],
   "source": []
  }
 ],
 "metadata": {
  "kernelspec": {
   "display_name": "transformers",
   "language": "python",
   "name": "python3"
  },
  "language_info": {
   "codemirror_mode": {
    "name": "ipython",
    "version": 3
   },
   "file_extension": ".py",
   "mimetype": "text/x-python",
   "name": "python",
   "nbconvert_exporter": "python",
   "pygments_lexer": "ipython3",
   "version": "3.10.13"
  }
 },
 "nbformat": 4,
 "nbformat_minor": 2
}
